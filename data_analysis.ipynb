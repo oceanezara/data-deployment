{
 "cells": [
  {
   "cell_type": "code",
   "execution_count": 498,
   "metadata": {},
   "outputs": [],
   "source": [
    "import pandas as pd\n",
    "import seaborn as sns\n",
    "import matplotlib.pyplot as plt "
   ]
  },
  {
   "cell_type": "code",
   "execution_count": 499,
   "metadata": {},
   "outputs": [
    {
     "data": {
      "text/html": [
       "<div>\n",
       "<style scoped>\n",
       "    .dataframe tbody tr th:only-of-type {\n",
       "        vertical-align: middle;\n",
       "    }\n",
       "\n",
       "    .dataframe tbody tr th {\n",
       "        vertical-align: top;\n",
       "    }\n",
       "\n",
       "    .dataframe thead th {\n",
       "        text-align: right;\n",
       "    }\n",
       "</style>\n",
       "<table border=\"1\" class=\"dataframe\">\n",
       "  <thead>\n",
       "    <tr style=\"text-align: right;\">\n",
       "      <th></th>\n",
       "      <th>car_id</th>\n",
       "      <th>checkin_type</th>\n",
       "      <th>state</th>\n",
       "      <th>delay_at_checkout_in_minutes</th>\n",
       "      <th>previous_ended_rental_id</th>\n",
       "      <th>time_delta_with_previous_rental_in_minutes</th>\n",
       "    </tr>\n",
       "    <tr>\n",
       "      <th>rental_id</th>\n",
       "      <th></th>\n",
       "      <th></th>\n",
       "      <th></th>\n",
       "      <th></th>\n",
       "      <th></th>\n",
       "      <th></th>\n",
       "    </tr>\n",
       "  </thead>\n",
       "  <tbody>\n",
       "    <tr>\n",
       "      <th>505000</th>\n",
       "      <td>363965</td>\n",
       "      <td>mobile</td>\n",
       "      <td>canceled</td>\n",
       "      <td>NaN</td>\n",
       "      <td>NaN</td>\n",
       "      <td>NaN</td>\n",
       "    </tr>\n",
       "    <tr>\n",
       "      <th>507750</th>\n",
       "      <td>269550</td>\n",
       "      <td>mobile</td>\n",
       "      <td>ended</td>\n",
       "      <td>-81.0</td>\n",
       "      <td>NaN</td>\n",
       "      <td>NaN</td>\n",
       "    </tr>\n",
       "    <tr>\n",
       "      <th>508131</th>\n",
       "      <td>359049</td>\n",
       "      <td>connect</td>\n",
       "      <td>ended</td>\n",
       "      <td>70.0</td>\n",
       "      <td>NaN</td>\n",
       "      <td>NaN</td>\n",
       "    </tr>\n",
       "    <tr>\n",
       "      <th>508865</th>\n",
       "      <td>299063</td>\n",
       "      <td>connect</td>\n",
       "      <td>canceled</td>\n",
       "      <td>NaN</td>\n",
       "      <td>NaN</td>\n",
       "      <td>NaN</td>\n",
       "    </tr>\n",
       "    <tr>\n",
       "      <th>511440</th>\n",
       "      <td>313932</td>\n",
       "      <td>mobile</td>\n",
       "      <td>ended</td>\n",
       "      <td>NaN</td>\n",
       "      <td>NaN</td>\n",
       "      <td>NaN</td>\n",
       "    </tr>\n",
       "  </tbody>\n",
       "</table>\n",
       "</div>"
      ],
      "text/plain": [
       "           car_id checkin_type     state  delay_at_checkout_in_minutes  \\\n",
       "rental_id                                                                \n",
       "505000     363965       mobile  canceled                           NaN   \n",
       "507750     269550       mobile     ended                         -81.0   \n",
       "508131     359049      connect     ended                          70.0   \n",
       "508865     299063      connect  canceled                           NaN   \n",
       "511440     313932       mobile     ended                           NaN   \n",
       "\n",
       "           previous_ended_rental_id  \\\n",
       "rental_id                             \n",
       "505000                          NaN   \n",
       "507750                          NaN   \n",
       "508131                          NaN   \n",
       "508865                          NaN   \n",
       "511440                          NaN   \n",
       "\n",
       "           time_delta_with_previous_rental_in_minutes  \n",
       "rental_id                                              \n",
       "505000                                            NaN  \n",
       "507750                                            NaN  \n",
       "508131                                            NaN  \n",
       "508865                                            NaN  \n",
       "511440                                            NaN  "
      ]
     },
     "execution_count": 499,
     "metadata": {},
     "output_type": "execute_result"
    }
   ],
   "source": [
    "dataset = pd.read_excel('get_around_delay_analysis.xlsx', index_col=0) \n",
    "dataset.head()"
   ]
  },
  {
   "cell_type": "code",
   "execution_count": 500,
   "metadata": {},
   "outputs": [
    {
     "name": "stdout",
     "output_type": "stream",
     "text": [
      "Number of rows : 21310\n",
      "\n",
      "Display of dataset: \n"
     ]
    },
    {
     "data": {
      "text/html": [
       "<div>\n",
       "<style scoped>\n",
       "    .dataframe tbody tr th:only-of-type {\n",
       "        vertical-align: middle;\n",
       "    }\n",
       "\n",
       "    .dataframe tbody tr th {\n",
       "        vertical-align: top;\n",
       "    }\n",
       "\n",
       "    .dataframe thead th {\n",
       "        text-align: right;\n",
       "    }\n",
       "</style>\n",
       "<table border=\"1\" class=\"dataframe\">\n",
       "  <thead>\n",
       "    <tr style=\"text-align: right;\">\n",
       "      <th></th>\n",
       "      <th>car_id</th>\n",
       "      <th>checkin_type</th>\n",
       "      <th>state</th>\n",
       "      <th>delay_at_checkout_in_minutes</th>\n",
       "      <th>previous_ended_rental_id</th>\n",
       "      <th>time_delta_with_previous_rental_in_minutes</th>\n",
       "    </tr>\n",
       "    <tr>\n",
       "      <th>rental_id</th>\n",
       "      <th></th>\n",
       "      <th></th>\n",
       "      <th></th>\n",
       "      <th></th>\n",
       "      <th></th>\n",
       "      <th></th>\n",
       "    </tr>\n",
       "  </thead>\n",
       "  <tbody>\n",
       "    <tr>\n",
       "      <th>505000</th>\n",
       "      <td>363965</td>\n",
       "      <td>mobile</td>\n",
       "      <td>canceled</td>\n",
       "      <td>NaN</td>\n",
       "      <td>NaN</td>\n",
       "      <td>NaN</td>\n",
       "    </tr>\n",
       "    <tr>\n",
       "      <th>507750</th>\n",
       "      <td>269550</td>\n",
       "      <td>mobile</td>\n",
       "      <td>ended</td>\n",
       "      <td>-81.0</td>\n",
       "      <td>NaN</td>\n",
       "      <td>NaN</td>\n",
       "    </tr>\n",
       "    <tr>\n",
       "      <th>508131</th>\n",
       "      <td>359049</td>\n",
       "      <td>connect</td>\n",
       "      <td>ended</td>\n",
       "      <td>70.0</td>\n",
       "      <td>NaN</td>\n",
       "      <td>NaN</td>\n",
       "    </tr>\n",
       "    <tr>\n",
       "      <th>508865</th>\n",
       "      <td>299063</td>\n",
       "      <td>connect</td>\n",
       "      <td>canceled</td>\n",
       "      <td>NaN</td>\n",
       "      <td>NaN</td>\n",
       "      <td>NaN</td>\n",
       "    </tr>\n",
       "    <tr>\n",
       "      <th>511440</th>\n",
       "      <td>313932</td>\n",
       "      <td>mobile</td>\n",
       "      <td>ended</td>\n",
       "      <td>NaN</td>\n",
       "      <td>NaN</td>\n",
       "      <td>NaN</td>\n",
       "    </tr>\n",
       "  </tbody>\n",
       "</table>\n",
       "</div>"
      ],
      "text/plain": [
       "           car_id checkin_type     state  delay_at_checkout_in_minutes  \\\n",
       "rental_id                                                                \n",
       "505000     363965       mobile  canceled                           NaN   \n",
       "507750     269550       mobile     ended                         -81.0   \n",
       "508131     359049      connect     ended                          70.0   \n",
       "508865     299063      connect  canceled                           NaN   \n",
       "511440     313932       mobile     ended                           NaN   \n",
       "\n",
       "           previous_ended_rental_id  \\\n",
       "rental_id                             \n",
       "505000                          NaN   \n",
       "507750                          NaN   \n",
       "508131                          NaN   \n",
       "508865                          NaN   \n",
       "511440                          NaN   \n",
       "\n",
       "           time_delta_with_previous_rental_in_minutes  \n",
       "rental_id                                              \n",
       "505000                                            NaN  \n",
       "507750                                            NaN  \n",
       "508131                                            NaN  \n",
       "508865                                            NaN  \n",
       "511440                                            NaN  "
      ]
     },
     "metadata": {},
     "output_type": "display_data"
    },
    {
     "name": "stdout",
     "output_type": "stream",
     "text": [
      "\n",
      "Basics statistics: \n"
     ]
    },
    {
     "data": {
      "text/html": [
       "<div>\n",
       "<style scoped>\n",
       "    .dataframe tbody tr th:only-of-type {\n",
       "        vertical-align: middle;\n",
       "    }\n",
       "\n",
       "    .dataframe tbody tr th {\n",
       "        vertical-align: top;\n",
       "    }\n",
       "\n",
       "    .dataframe thead th {\n",
       "        text-align: right;\n",
       "    }\n",
       "</style>\n",
       "<table border=\"1\" class=\"dataframe\">\n",
       "  <thead>\n",
       "    <tr style=\"text-align: right;\">\n",
       "      <th></th>\n",
       "      <th>car_id</th>\n",
       "      <th>checkin_type</th>\n",
       "      <th>state</th>\n",
       "      <th>delay_at_checkout_in_minutes</th>\n",
       "      <th>previous_ended_rental_id</th>\n",
       "      <th>time_delta_with_previous_rental_in_minutes</th>\n",
       "    </tr>\n",
       "  </thead>\n",
       "  <tbody>\n",
       "    <tr>\n",
       "      <th>count</th>\n",
       "      <td>21310.000000</td>\n",
       "      <td>21310</td>\n",
       "      <td>21310</td>\n",
       "      <td>16346.000000</td>\n",
       "      <td>1841.000000</td>\n",
       "      <td>1841.000000</td>\n",
       "    </tr>\n",
       "    <tr>\n",
       "      <th>unique</th>\n",
       "      <td>NaN</td>\n",
       "      <td>2</td>\n",
       "      <td>2</td>\n",
       "      <td>NaN</td>\n",
       "      <td>NaN</td>\n",
       "      <td>NaN</td>\n",
       "    </tr>\n",
       "    <tr>\n",
       "      <th>top</th>\n",
       "      <td>NaN</td>\n",
       "      <td>mobile</td>\n",
       "      <td>ended</td>\n",
       "      <td>NaN</td>\n",
       "      <td>NaN</td>\n",
       "      <td>NaN</td>\n",
       "    </tr>\n",
       "    <tr>\n",
       "      <th>freq</th>\n",
       "      <td>NaN</td>\n",
       "      <td>17003</td>\n",
       "      <td>18045</td>\n",
       "      <td>NaN</td>\n",
       "      <td>NaN</td>\n",
       "      <td>NaN</td>\n",
       "    </tr>\n",
       "    <tr>\n",
       "      <th>mean</th>\n",
       "      <td>350030.603426</td>\n",
       "      <td>NaN</td>\n",
       "      <td>NaN</td>\n",
       "      <td>59.701517</td>\n",
       "      <td>550127.411733</td>\n",
       "      <td>279.288430</td>\n",
       "    </tr>\n",
       "    <tr>\n",
       "      <th>std</th>\n",
       "      <td>58206.249765</td>\n",
       "      <td>NaN</td>\n",
       "      <td>NaN</td>\n",
       "      <td>1002.561635</td>\n",
       "      <td>13184.023111</td>\n",
       "      <td>254.594486</td>\n",
       "    </tr>\n",
       "    <tr>\n",
       "      <th>min</th>\n",
       "      <td>159250.000000</td>\n",
       "      <td>NaN</td>\n",
       "      <td>NaN</td>\n",
       "      <td>-22433.000000</td>\n",
       "      <td>505628.000000</td>\n",
       "      <td>0.000000</td>\n",
       "    </tr>\n",
       "    <tr>\n",
       "      <th>25%</th>\n",
       "      <td>317639.000000</td>\n",
       "      <td>NaN</td>\n",
       "      <td>NaN</td>\n",
       "      <td>-36.000000</td>\n",
       "      <td>540896.000000</td>\n",
       "      <td>60.000000</td>\n",
       "    </tr>\n",
       "    <tr>\n",
       "      <th>50%</th>\n",
       "      <td>368717.000000</td>\n",
       "      <td>NaN</td>\n",
       "      <td>NaN</td>\n",
       "      <td>9.000000</td>\n",
       "      <td>550567.000000</td>\n",
       "      <td>180.000000</td>\n",
       "    </tr>\n",
       "    <tr>\n",
       "      <th>75%</th>\n",
       "      <td>394928.000000</td>\n",
       "      <td>NaN</td>\n",
       "      <td>NaN</td>\n",
       "      <td>67.000000</td>\n",
       "      <td>560823.000000</td>\n",
       "      <td>540.000000</td>\n",
       "    </tr>\n",
       "    <tr>\n",
       "      <th>max</th>\n",
       "      <td>417675.000000</td>\n",
       "      <td>NaN</td>\n",
       "      <td>NaN</td>\n",
       "      <td>71084.000000</td>\n",
       "      <td>575053.000000</td>\n",
       "      <td>720.000000</td>\n",
       "    </tr>\n",
       "  </tbody>\n",
       "</table>\n",
       "</div>"
      ],
      "text/plain": [
       "               car_id checkin_type  state  delay_at_checkout_in_minutes  \\\n",
       "count    21310.000000        21310  21310                  16346.000000   \n",
       "unique            NaN            2      2                           NaN   \n",
       "top               NaN       mobile  ended                           NaN   \n",
       "freq              NaN        17003  18045                           NaN   \n",
       "mean    350030.603426          NaN    NaN                     59.701517   \n",
       "std      58206.249765          NaN    NaN                   1002.561635   \n",
       "min     159250.000000          NaN    NaN                 -22433.000000   \n",
       "25%     317639.000000          NaN    NaN                    -36.000000   \n",
       "50%     368717.000000          NaN    NaN                      9.000000   \n",
       "75%     394928.000000          NaN    NaN                     67.000000   \n",
       "max     417675.000000          NaN    NaN                  71084.000000   \n",
       "\n",
       "        previous_ended_rental_id  time_delta_with_previous_rental_in_minutes  \n",
       "count                1841.000000                                 1841.000000  \n",
       "unique                       NaN                                         NaN  \n",
       "top                          NaN                                         NaN  \n",
       "freq                         NaN                                         NaN  \n",
       "mean               550127.411733                                  279.288430  \n",
       "std                 13184.023111                                  254.594486  \n",
       "min                505628.000000                                    0.000000  \n",
       "25%                540896.000000                                   60.000000  \n",
       "50%                550567.000000                                  180.000000  \n",
       "75%                560823.000000                                  540.000000  \n",
       "max                575053.000000                                  720.000000  "
      ]
     },
     "metadata": {},
     "output_type": "display_data"
    },
    {
     "name": "stdout",
     "output_type": "stream",
     "text": [
      "\n",
      "Percentage of missing values: \n"
     ]
    },
    {
     "data": {
      "text/plain": [
       "car_id                                         0.000000\n",
       "checkin_type                                   0.000000\n",
       "state                                          0.000000\n",
       "delay_at_checkout_in_minutes                  23.294228\n",
       "previous_ended_rental_id                      91.360863\n",
       "time_delta_with_previous_rental_in_minutes    91.360863\n",
       "dtype: float64"
      ]
     },
     "metadata": {},
     "output_type": "display_data"
    }
   ],
   "source": [
    "# Basic stats\n",
    "print(\"Number of rows : {}\".format(dataset.shape[0]))\n",
    "print()\n",
    "\n",
    "print(\"Display of dataset: \")\n",
    "display(dataset.head())\n",
    "print()\n",
    "\n",
    "print(\"Basics statistics: \")\n",
    "data_desc = dataset.describe(include='all')\n",
    "display(data_desc)\n",
    "print()\n",
    "\n",
    "print(\"Percentage of missing values: \")\n",
    "display(100*dataset.isnull().sum()/dataset.shape[0])"
   ]
  },
  {
   "cell_type": "code",
   "execution_count": 501,
   "metadata": {},
   "outputs": [],
   "source": [
    "mask = (dataset['state'] == 'ended') "
   ]
  },
  {
   "cell_type": "code",
   "execution_count": 502,
   "metadata": {},
   "outputs": [],
   "source": [
    "# I replace NaN values at column delay_at_checkout_in_minutes by zero when state is ended \n",
    "\n",
    "dataset['delay_at_checkout_in_minutes'] = dataset[mask]['delay_at_checkout_in_minutes'].fillna(0)"
   ]
  },
  {
   "cell_type": "code",
   "execution_count": 503,
   "metadata": {},
   "outputs": [
    {
     "data": {
      "text/plain": [
       "checkin_type\n",
       "connect   -42.296951\n",
       "mobile     78.547675\n",
       "Name: delay_at_checkout_in_minutes, dtype: float64"
      ]
     },
     "execution_count": 503,
     "metadata": {},
     "output_type": "execute_result"
    }
   ],
   "source": [
    "# Mean per checking type\n",
    "dataset[mask].groupby(['checkin_type'])['delay_at_checkout_in_minutes'].mean()"
   ]
  },
  {
   "cell_type": "code",
   "execution_count": 504,
   "metadata": {},
   "outputs": [
    {
     "data": {
      "text/plain": [
       "<seaborn.axisgrid.FacetGrid at 0x7f8d723bd0a0>"
      ]
     },
     "execution_count": 504,
     "metadata": {},
     "output_type": "execute_result"
    },
    {
     "data": {
      "image/png": "[encoded data removed]",
      "text/plain": [
       "<Figure size 500x500 with 1 Axes>"
      ]
     },
     "metadata": {},
     "output_type": "display_data"
    }
   ],
   "source": [
    "sns.catplot(x=\"checkin_type\", y=\"delay_at_checkout_in_minutes\", kind=\"bar\", data=dataset[mask])"
   ]
  },
  {
   "cell_type": "code",
   "execution_count": 505,
   "metadata": {},
   "outputs": [
    {
     "data": {
      "text/plain": [
       "mobile     17003\n",
       "connect     4307\n",
       "Name: checkin_type, dtype: int64"
      ]
     },
     "execution_count": 505,
     "metadata": {},
     "output_type": "execute_result"
    }
   ],
   "source": [
    "dataset['checkin_type'].value_counts()"
   ]
  },
  {
   "cell_type": "code",
   "execution_count": 506,
   "metadata": {},
   "outputs": [
    {
     "data": {
      "image/png": "[encoded data removed]",
      "text/plain": [
       "<Figure size 640x480 with 1 Axes>"
      ]
     },
     "metadata": {},
     "output_type": "display_data"
    }
   ],
   "source": [
    "plt.pie(dataset['checkin_type'].value_counts(), labels=dataset['checkin_type'].value_counts().index, autopct='%1.0f%%')\n",
    "plt.show()\n"
   ]
  },
  {
   "cell_type": "code",
   "execution_count": 507,
   "metadata": {},
   "outputs": [
    {
     "data": {
      "text/html": [
       "<div>\n",
       "<style scoped>\n",
       "    .dataframe tbody tr th:only-of-type {\n",
       "        vertical-align: middle;\n",
       "    }\n",
       "\n",
       "    .dataframe tbody tr th {\n",
       "        vertical-align: top;\n",
       "    }\n",
       "\n",
       "    .dataframe thead th {\n",
       "        text-align: right;\n",
       "    }\n",
       "</style>\n",
       "<table border=\"1\" class=\"dataframe\">\n",
       "  <thead>\n",
       "    <tr style=\"text-align: right;\">\n",
       "      <th></th>\n",
       "      <th>car_id</th>\n",
       "      <th>checkin_type</th>\n",
       "      <th>state</th>\n",
       "      <th>delay_at_checkout_in_minutes</th>\n",
       "      <th>previous_ended_rental_id</th>\n",
       "      <th>time_delta_with_previous_rental_in_minutes</th>\n",
       "    </tr>\n",
       "    <tr>\n",
       "      <th>rental_id</th>\n",
       "      <th></th>\n",
       "      <th></th>\n",
       "      <th></th>\n",
       "      <th></th>\n",
       "      <th></th>\n",
       "      <th></th>\n",
       "    </tr>\n",
       "  </thead>\n",
       "  <tbody>\n",
       "    <tr>\n",
       "      <th>511639</th>\n",
       "      <td>370585</td>\n",
       "      <td>connect</td>\n",
       "      <td>ended</td>\n",
       "      <td>-15.0</td>\n",
       "      <td>563782.0</td>\n",
       "      <td>570.0</td>\n",
       "    </tr>\n",
       "    <tr>\n",
       "      <th>519491</th>\n",
       "      <td>312389</td>\n",
       "      <td>mobile</td>\n",
       "      <td>ended</td>\n",
       "      <td>58.0</td>\n",
       "      <td>545639.0</td>\n",
       "      <td>420.0</td>\n",
       "    </tr>\n",
       "    <tr>\n",
       "      <th>521156</th>\n",
       "      <td>392479</td>\n",
       "      <td>mobile</td>\n",
       "      <td>ended</td>\n",
       "      <td>0.0</td>\n",
       "      <td>537298.0</td>\n",
       "      <td>0.0</td>\n",
       "    </tr>\n",
       "    <tr>\n",
       "      <th>525044</th>\n",
       "      <td>349751</td>\n",
       "      <td>mobile</td>\n",
       "      <td>ended</td>\n",
       "      <td>0.0</td>\n",
       "      <td>510607.0</td>\n",
       "      <td>60.0</td>\n",
       "    </tr>\n",
       "    <tr>\n",
       "      <th>528808</th>\n",
       "      <td>181625</td>\n",
       "      <td>connect</td>\n",
       "      <td>ended</td>\n",
       "      <td>-76.0</td>\n",
       "      <td>557404.0</td>\n",
       "      <td>330.0</td>\n",
       "    </tr>\n",
       "  </tbody>\n",
       "</table>\n",
       "</div>"
      ],
      "text/plain": [
       "           car_id checkin_type  state  delay_at_checkout_in_minutes  \\\n",
       "rental_id                                                             \n",
       "511639     370585      connect  ended                         -15.0   \n",
       "519491     312389       mobile  ended                          58.0   \n",
       "521156     392479       mobile  ended                           0.0   \n",
       "525044     349751       mobile  ended                           0.0   \n",
       "528808     181625      connect  ended                         -76.0   \n",
       "\n",
       "           previous_ended_rental_id  \\\n",
       "rental_id                             \n",
       "511639                     563782.0   \n",
       "519491                     545639.0   \n",
       "521156                     537298.0   \n",
       "525044                     510607.0   \n",
       "528808                     557404.0   \n",
       "\n",
       "           time_delta_with_previous_rental_in_minutes  \n",
       "rental_id                                              \n",
       "511639                                          570.0  \n",
       "519491                                          420.0  \n",
       "521156                                            0.0  \n",
       "525044                                           60.0  \n",
       "528808                                          330.0  "
      ]
     },
     "execution_count": 507,
     "metadata": {},
     "output_type": "execute_result"
    }
   ],
   "source": [
    "#dataset where time_delta_with_previous_rental_in_minutes is not null\n",
    "\n",
    "df_delta_not_null = dataset[dataset['time_delta_with_previous_rental_in_minutes'].notnull()]\n",
    "df_delta_not_null.head()"
   ]
  },
  {
   "attachments": {},
   "cell_type": "markdown",
   "metadata": {},
   "source": [
    "New number of lines we will be working on"
   ]
  },
  {
   "cell_type": "code",
   "execution_count": 508,
   "metadata": {},
   "outputs": [
    {
     "data": {
      "text/plain": [
       "mobile     1028\n",
       "connect     813\n",
       "Name: checkin_type, dtype: int64"
      ]
     },
     "execution_count": 508,
     "metadata": {},
     "output_type": "execute_result"
    }
   ],
   "source": [
    "df_delta_not_null['checkin_type'].value_counts()"
   ]
  },
  {
   "cell_type": "code",
   "execution_count": 509,
   "metadata": {},
   "outputs": [
    {
     "data": {
      "text/plain": [
       "checkin_type\n",
       "connect    287.675277\n",
       "mobile     272.655642\n",
       "Name: time_delta_with_previous_rental_in_minutes, dtype: float64"
      ]
     },
     "execution_count": 509,
     "metadata": {},
     "output_type": "execute_result"
    }
   ],
   "source": [
    "df_delta_not_null.groupby('checkin_type')['time_delta_with_previous_rental_in_minutes'].mean()"
   ]
  },
  {
   "cell_type": "code",
   "execution_count": 510,
   "metadata": {},
   "outputs": [
    {
     "data": {
      "text/html": [
       "<div>\n",
       "<style scoped>\n",
       "    .dataframe tbody tr th:only-of-type {\n",
       "        vertical-align: middle;\n",
       "    }\n",
       "\n",
       "    .dataframe tbody tr th {\n",
       "        vertical-align: top;\n",
       "    }\n",
       "\n",
       "    .dataframe thead th {\n",
       "        text-align: right;\n",
       "    }\n",
       "</style>\n",
       "<table border=\"1\" class=\"dataframe\">\n",
       "  <thead>\n",
       "    <tr style=\"text-align: right;\">\n",
       "      <th></th>\n",
       "      <th>car_id</th>\n",
       "      <th>checkin_type</th>\n",
       "      <th>state</th>\n",
       "      <th>delay_at_checkout_in_minutes</th>\n",
       "      <th>previous_ended_rental_id</th>\n",
       "      <th>time_delta_with_previous_rental_in_minutes</th>\n",
       "    </tr>\n",
       "    <tr>\n",
       "      <th>rental_id</th>\n",
       "      <th></th>\n",
       "      <th></th>\n",
       "      <th></th>\n",
       "      <th></th>\n",
       "      <th></th>\n",
       "      <th></th>\n",
       "    </tr>\n",
       "  </thead>\n",
       "  <tbody>\n",
       "    <tr>\n",
       "      <th>543768</th>\n",
       "      <td>374169</td>\n",
       "      <td>connect</td>\n",
       "      <td>canceled</td>\n",
       "      <td>NaN</td>\n",
       "      <td>543010.0</td>\n",
       "      <td>210.0</td>\n",
       "    </tr>\n",
       "    <tr>\n",
       "      <th>546160</th>\n",
       "      <td>352528</td>\n",
       "      <td>connect</td>\n",
       "      <td>canceled</td>\n",
       "      <td>NaN</td>\n",
       "      <td>546578.0</td>\n",
       "      <td>630.0</td>\n",
       "    </tr>\n",
       "    <tr>\n",
       "      <th>564627</th>\n",
       "      <td>341431</td>\n",
       "      <td>mobile</td>\n",
       "      <td>canceled</td>\n",
       "      <td>NaN</td>\n",
       "      <td>552005.0</td>\n",
       "      <td>150.0</td>\n",
       "    </tr>\n",
       "    <tr>\n",
       "      <th>568657</th>\n",
       "      <td>317378</td>\n",
       "      <td>connect</td>\n",
       "      <td>canceled</td>\n",
       "      <td>NaN</td>\n",
       "      <td>566412.0</td>\n",
       "      <td>210.0</td>\n",
       "    </tr>\n",
       "    <tr>\n",
       "      <th>516550</th>\n",
       "      <td>377700</td>\n",
       "      <td>mobile</td>\n",
       "      <td>canceled</td>\n",
       "      <td>NaN</td>\n",
       "      <td>545076.0</td>\n",
       "      <td>720.0</td>\n",
       "    </tr>\n",
       "  </tbody>\n",
       "</table>\n",
       "</div>"
      ],
      "text/plain": [
       "           car_id checkin_type     state  delay_at_checkout_in_minutes  \\\n",
       "rental_id                                                                \n",
       "543768     374169      connect  canceled                           NaN   \n",
       "546160     352528      connect  canceled                           NaN   \n",
       "564627     341431       mobile  canceled                           NaN   \n",
       "568657     317378      connect  canceled                           NaN   \n",
       "516550     377700       mobile  canceled                           NaN   \n",
       "\n",
       "           previous_ended_rental_id  \\\n",
       "rental_id                             \n",
       "543768                     543010.0   \n",
       "546160                     546578.0   \n",
       "564627                     552005.0   \n",
       "568657                     566412.0   \n",
       "516550                     545076.0   \n",
       "\n",
       "           time_delta_with_previous_rental_in_minutes  \n",
       "rental_id                                              \n",
       "543768                                          210.0  \n",
       "546160                                          630.0  \n",
       "564627                                          150.0  \n",
       "568657                                          210.0  \n",
       "516550                                          720.0  "
      ]
     },
     "execution_count": 510,
     "metadata": {},
     "output_type": "execute_result"
    }
   ],
   "source": [
    "data_state_cancel = df_delta_not_null[df_delta_not_null['state'] == 'canceled']\n",
    "data_state_cancel.head()"
   ]
  },
  {
   "attachments": {},
   "cell_type": "markdown",
   "metadata": {},
   "source": [
    "Proportion of cancelation per type of check in"
   ]
  },
  {
   "cell_type": "code",
   "execution_count": 511,
   "metadata": {},
   "outputs": [
    {
     "data": {
      "image/png": "[encoded data removed]",
      "text/plain": [
       "<Figure size 640x480 with 1 Axes>"
      ]
     },
     "metadata": {},
     "output_type": "display_data"
    }
   ],
   "source": [
    "plt.pie(data_state_cancel['checkin_type'].value_counts(), labels=data_state_cancel['checkin_type'].value_counts().index, autopct='%1.0f%%')\n",
    "plt.show()"
   ]
  },
  {
   "attachments": {},
   "cell_type": "markdown",
   "metadata": {},
   "source": [
    "Distribution state column"
   ]
  },
  {
   "cell_type": "code",
   "execution_count": 512,
   "metadata": {},
   "outputs": [
    {
     "data": {
      "image/png": "[encoded data removed]",
      "text/plain": [
       "<Figure size 640x480 with 1 Axes>"
      ]
     },
     "metadata": {},
     "output_type": "display_data"
    }
   ],
   "source": [
    "plt.pie(df_delta_not_null['state'].value_counts(), labels=df_delta_not_null['state'].value_counts().index, autopct='%1.0f%%')\n",
    "plt.show()"
   ]
  },
  {
   "attachments": {},
   "cell_type": "markdown",
   "metadata": {},
   "source": [
    "We see that 12% of bookings (when delta in less than 12 hours) are canceled of which 57% come from Connect cars."
   ]
  },
  {
   "cell_type": "code",
   "execution_count": 513,
   "metadata": {},
   "outputs": [
    {
     "data": {
      "text/html": [
       "<div>\n",
       "<style scoped>\n",
       "    .dataframe tbody tr th:only-of-type {\n",
       "        vertical-align: middle;\n",
       "    }\n",
       "\n",
       "    .dataframe tbody tr th {\n",
       "        vertical-align: top;\n",
       "    }\n",
       "\n",
       "    .dataframe thead th {\n",
       "        text-align: right;\n",
       "    }\n",
       "</style>\n",
       "<table border=\"1\" class=\"dataframe\">\n",
       "  <thead>\n",
       "    <tr style=\"text-align: right;\">\n",
       "      <th></th>\n",
       "      <th></th>\n",
       "      <th>count</th>\n",
       "      <th>mean</th>\n",
       "      <th>std</th>\n",
       "      <th>min</th>\n",
       "      <th>25%</th>\n",
       "      <th>50%</th>\n",
       "      <th>75%</th>\n",
       "      <th>max</th>\n",
       "    </tr>\n",
       "    <tr>\n",
       "      <th>checkin_type</th>\n",
       "      <th>state</th>\n",
       "      <th></th>\n",
       "      <th></th>\n",
       "      <th></th>\n",
       "      <th></th>\n",
       "      <th></th>\n",
       "      <th></th>\n",
       "      <th></th>\n",
       "      <th></th>\n",
       "    </tr>\n",
       "  </thead>\n",
       "  <tbody>\n",
       "    <tr>\n",
       "      <th rowspan=\"2\" valign=\"top\">connect</th>\n",
       "      <th>canceled</th>\n",
       "      <td>131.0</td>\n",
       "      <td>300.000000</td>\n",
       "      <td>254.204642</td>\n",
       "      <td>0.0</td>\n",
       "      <td>60.0</td>\n",
       "      <td>240.0</td>\n",
       "      <td>570.0</td>\n",
       "      <td>720.0</td>\n",
       "    </tr>\n",
       "    <tr>\n",
       "      <th>ended</th>\n",
       "      <td>682.0</td>\n",
       "      <td>285.307918</td>\n",
       "      <td>259.968894</td>\n",
       "      <td>0.0</td>\n",
       "      <td>60.0</td>\n",
       "      <td>180.0</td>\n",
       "      <td>540.0</td>\n",
       "      <td>720.0</td>\n",
       "    </tr>\n",
       "    <tr>\n",
       "      <th rowspan=\"2\" valign=\"top\">mobile</th>\n",
       "      <th>canceled</th>\n",
       "      <td>98.0</td>\n",
       "      <td>288.061224</td>\n",
       "      <td>246.813332</td>\n",
       "      <td>0.0</td>\n",
       "      <td>60.0</td>\n",
       "      <td>210.0</td>\n",
       "      <td>510.0</td>\n",
       "      <td>720.0</td>\n",
       "    </tr>\n",
       "    <tr>\n",
       "      <th>ended</th>\n",
       "      <td>930.0</td>\n",
       "      <td>271.032258</td>\n",
       "      <td>251.539520</td>\n",
       "      <td>0.0</td>\n",
       "      <td>60.0</td>\n",
       "      <td>180.0</td>\n",
       "      <td>510.0</td>\n",
       "      <td>720.0</td>\n",
       "    </tr>\n",
       "  </tbody>\n",
       "</table>\n",
       "</div>"
      ],
      "text/plain": [
       "                       count        mean         std  min   25%    50%    75%  \\\n",
       "checkin_type state                                                              \n",
       "connect      canceled  131.0  300.000000  254.204642  0.0  60.0  240.0  570.0   \n",
       "             ended     682.0  285.307918  259.968894  0.0  60.0  180.0  540.0   \n",
       "mobile       canceled   98.0  288.061224  246.813332  0.0  60.0  210.0  510.0   \n",
       "             ended     930.0  271.032258  251.539520  0.0  60.0  180.0  510.0   \n",
       "\n",
       "                         max  \n",
       "checkin_type state            \n",
       "connect      canceled  720.0  \n",
       "             ended     720.0  \n",
       "mobile       canceled  720.0  \n",
       "             ended     720.0  "
      ]
     },
     "execution_count": 513,
     "metadata": {},
     "output_type": "execute_result"
    }
   ],
   "source": [
    "df_delta_not_null.groupby(['checkin_type', 'state'])['time_delta_with_previous_rental_in_minutes'].describe()"
   ]
  },
  {
   "cell_type": "code",
   "execution_count": 514,
   "metadata": {},
   "outputs": [
    {
     "data": {
      "text/html": [
       "<div>\n",
       "<style scoped>\n",
       "    .dataframe tbody tr th:only-of-type {\n",
       "        vertical-align: middle;\n",
       "    }\n",
       "\n",
       "    .dataframe tbody tr th {\n",
       "        vertical-align: top;\n",
       "    }\n",
       "\n",
       "    .dataframe thead th {\n",
       "        text-align: right;\n",
       "    }\n",
       "</style>\n",
       "<table border=\"1\" class=\"dataframe\">\n",
       "  <thead>\n",
       "    <tr style=\"text-align: right;\">\n",
       "      <th></th>\n",
       "      <th>car_id</th>\n",
       "      <th>checkin_type</th>\n",
       "      <th>state</th>\n",
       "      <th>delay_at_checkout_in_minutes</th>\n",
       "      <th>previous_ended_rental_id</th>\n",
       "      <th>time_delta_with_previous_rental_in_minutes</th>\n",
       "    </tr>\n",
       "    <tr>\n",
       "      <th>rental_id</th>\n",
       "      <th></th>\n",
       "      <th></th>\n",
       "      <th></th>\n",
       "      <th></th>\n",
       "      <th></th>\n",
       "      <th></th>\n",
       "    </tr>\n",
       "  </thead>\n",
       "  <tbody>\n",
       "    <tr>\n",
       "      <th>511639</th>\n",
       "      <td>370585</td>\n",
       "      <td>connect</td>\n",
       "      <td>ended</td>\n",
       "      <td>-15.0</td>\n",
       "      <td>563782.0</td>\n",
       "      <td>570.0</td>\n",
       "    </tr>\n",
       "    <tr>\n",
       "      <th>519491</th>\n",
       "      <td>312389</td>\n",
       "      <td>mobile</td>\n",
       "      <td>ended</td>\n",
       "      <td>58.0</td>\n",
       "      <td>545639.0</td>\n",
       "      <td>420.0</td>\n",
       "    </tr>\n",
       "    <tr>\n",
       "      <th>521156</th>\n",
       "      <td>392479</td>\n",
       "      <td>mobile</td>\n",
       "      <td>ended</td>\n",
       "      <td>0.0</td>\n",
       "      <td>537298.0</td>\n",
       "      <td>0.0</td>\n",
       "    </tr>\n",
       "    <tr>\n",
       "      <th>525044</th>\n",
       "      <td>349751</td>\n",
       "      <td>mobile</td>\n",
       "      <td>ended</td>\n",
       "      <td>0.0</td>\n",
       "      <td>510607.0</td>\n",
       "      <td>60.0</td>\n",
       "    </tr>\n",
       "    <tr>\n",
       "      <th>528808</th>\n",
       "      <td>181625</td>\n",
       "      <td>connect</td>\n",
       "      <td>ended</td>\n",
       "      <td>-76.0</td>\n",
       "      <td>557404.0</td>\n",
       "      <td>330.0</td>\n",
       "    </tr>\n",
       "  </tbody>\n",
       "</table>\n",
       "</div>"
      ],
      "text/plain": [
       "           car_id checkin_type  state  delay_at_checkout_in_minutes  \\\n",
       "rental_id                                                             \n",
       "511639     370585      connect  ended                         -15.0   \n",
       "519491     312389       mobile  ended                          58.0   \n",
       "521156     392479       mobile  ended                           0.0   \n",
       "525044     349751       mobile  ended                           0.0   \n",
       "528808     181625      connect  ended                         -76.0   \n",
       "\n",
       "           previous_ended_rental_id  \\\n",
       "rental_id                             \n",
       "511639                     563782.0   \n",
       "519491                     545639.0   \n",
       "521156                     537298.0   \n",
       "525044                     510607.0   \n",
       "528808                     557404.0   \n",
       "\n",
       "           time_delta_with_previous_rental_in_minutes  \n",
       "rental_id                                              \n",
       "511639                                          570.0  \n",
       "519491                                          420.0  \n",
       "521156                                            0.0  \n",
       "525044                                           60.0  \n",
       "528808                                          330.0  "
      ]
     },
     "execution_count": 514,
     "metadata": {},
     "output_type": "execute_result"
    }
   ],
   "source": [
    "df_delta_not_null_new = df_delta_not_null.drop(df_delta_not_null[(df_delta_not_null['checkin_type'] == 'connect') & (df_delta_not_null['time_delta_with_previous_rental_in_minutes'] <= 720)].index)\n",
    "df_delta_not_null.head()"
   ]
  },
  {
   "cell_type": "code",
   "execution_count": 515,
   "metadata": {},
   "outputs": [
    {
     "data": {
      "image/png": "[encoded data removed]",
      "text/plain": [
       "<Figure size 640x480 with 1 Axes>"
      ]
     },
     "metadata": {},
     "output_type": "display_data"
    }
   ],
   "source": [
    "plt.pie(df_delta_not_null_new['state'].value_counts(), labels=df_delta_not_null_new['state'].value_counts().index, autopct='%1.0f%%')\n",
    "plt.show()"
   ]
  },
  {
   "cell_type": "code",
   "execution_count": 516,
   "metadata": {},
   "outputs": [
    {
     "data": {
      "text/plain": [
       "0.03220170924028519"
      ]
     },
     "execution_count": 516,
     "metadata": {},
     "output_type": "execute_result"
    }
   ],
   "source": [
    "682 / (21310 - 131)"
   ]
  },
  {
   "cell_type": "code",
   "execution_count": 517,
   "metadata": {},
   "outputs": [],
   "source": [
    "mask_connect = (df_delta_not_null['checkin_type'] == \"connect\")\n"
   ]
  },
  {
   "cell_type": "code",
   "execution_count": 518,
   "metadata": {},
   "outputs": [
    {
     "name": "stderr",
     "output_type": "stream",
     "text": [
      "/var/folders/vy/2hn6syqn6zqcc4mkycbvh5240000gn/T/ipykernel_9026/2373546234.py:1: UserWarning: Boolean Series key will be reindexed to match DataFrame index.\n",
      "  df_delta_not_null[mask_connect][df_delta_not_null['state'] == 'state'].count()\n"
     ]
    },
    {
     "data": {
      "text/plain": [
       "car_id                                        0\n",
       "checkin_type                                  0\n",
       "state                                         0\n",
       "delay_at_checkout_in_minutes                  0\n",
       "previous_ended_rental_id                      0\n",
       "time_delta_with_previous_rental_in_minutes    0\n",
       "dtype: int64"
      ]
     },
     "execution_count": 518,
     "metadata": {},
     "output_type": "execute_result"
    }
   ],
   "source": [
    "df_delta_not_null[mask_connect][df_delta_not_null['state'] == 'state'].count()"
   ]
  }
 ],
 "metadata": {
  "kernelspec": {
   "display_name": "base",
   "language": "python",
   "name": "python3"
  },
  "language_info": {
   "codemirror_mode": {
    "name": "ipython",
    "version": 3
   },
   "file_extension": ".py",
   "mimetype": "text/x-python",
   "name": "python",
   "nbconvert_exporter": "python",
   "pygments_lexer": "ipython3",
   "version": "3.9.13"
  },
  "orig_nbformat": 4,
  "vscode": {
   "interpreter": {
    "hash": "a665bb8062972196fa27f9ce2dd540ec94954fa53386b1c47cf2a7ef4570063d"
   }
  }
 },
 "nbformat": 4,
 "nbformat_minor": 2
}
